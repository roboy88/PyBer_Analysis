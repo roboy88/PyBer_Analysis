{
 "cells": [
  {
   "cell_type": "code",
   "execution_count": null,
   "metadata": {},
   "outputs": [],
   "source": [
    "# Add Matplotlib inline magic command\n",
    "%matplotlib inline\n",
    "# Dependencies and Setup\n",
    "import matplotlib.pyplot as plt\n",
    "import pandas as pd\n",
    "\n",
    "# File to Load (Remember to change these)\n",
    "city_data_to_load = \"C:/Users/raney/OneDrive/Desktop/Analysis_Projects/PyBer_Analysis/Resources/city_data.csv\"\n",
    "ride_data_to_load = \"C:/Users/raney/OneDrive/Desktop/Analysis_Projects/PyBer_Analysis/Resources/ride_data.csv\"\n",
    "\n",
    "# Read the City and Ride Data\n",
    "city_data_df = pd.read_csv(city_data_to_load)\n",
    "ride_data_df = pd.read_csv(ride_data_to_load)"
   ]
  },
  {
   "cell_type": "code",
   "execution_count": null,
   "metadata": {},
   "outputs": [],
   "source": [
    "# Combine the data into a single dataset\n",
    "pyber_data_df = pd.merge(ride_data_df, city_data_df, how=\"left\", on=[\"city\", \"city\"])\n",
    "\n",
    "# Display the data table for preview\n",
    "pyber_data_df.head()\n",
    "city\tdate\tfare\tride_id\tdriver_count\ttype\n",
    "0\tLake Jonathanshire\t2019-01-14 10:14:22\t13.83\t5739410935873\t5\tUrban\n",
    "1\tSouth Michelleport\t2019-03-04 18:24:09\t30.24\t2343912425577\t72\tUrban\n",
    "2\tPort Samanthamouth\t2019-02-24 04:29:00\t33.44\t2005065760003\t57\tUrban\n",
    "3\tRodneyfort\t2019-02-10 23:22:03\t23.44\t5149245426178\t34\tUrban\n",
    "4\tSouth Jack\t2019-03-06 04:28:35\t34.58\t3908451377344\t46\tUrban"
   ]
  },
  {
   "cell_type": "code",
   "execution_count": null,
   "metadata": {},
   "outputs": [],
   "source": [
    "#  1. Get the total rides for each city type\n",
    "total_rides_series = pyber_data_df.groupby([\"type\"]).count()[\"ride_id\"]\n",
    "total_rides_series\n",
    "type\n",
    "Rural        125\n",
    "Suburban     625\n",
    "Urban       1625\n",
    "Name: ride_id, dtype: int64\n"
   ]
  },
  {
   "cell_type": "code",
   "execution_count": null,
   "metadata": {},
   "outputs": [],
   "source": [
    "# 2. Get the total drivers for each city type\n",
    "total_driver_series = city_data_df.groupby([\"type\"]).sum()[\"driver_count\"]\n",
    "total_driver_series\n",
    "type\n",
    "Rural         78\n",
    "Suburban     490\n",
    "Urban       2405\n",
    "Name: driver_count, dtype: int64"
   ]
  },
  {
   "cell_type": "code",
   "execution_count": null,
   "metadata": {},
   "outputs": [],
   "source": [
    "#  3. Get the total amount of fares for each city type\n",
    "total_fare_series = pyber_data_df.groupby([\"type\"]).sum()[\"fare\"]\n",
    "total_fare_series\n",
    "type\n",
    "Rural        4327.93\n",
    "Suburban    19356.33\n",
    "Urban       39854.38\n",
    "Name: fare, dtype: float64"
   ]
  },
  {
   "cell_type": "code",
   "execution_count": null,
   "metadata": {},
   "outputs": [],
   "source": [
    "#  4. Get the average fare per ride for each city type. \n",
    "average_fare_ride_series = total_fare_series/total_rides_series\n",
    "average_fare_ride_series\n",
    "type\n",
    "Rural       34.623440\n",
    "Suburban    30.970128\n",
    "Urban       24.525772\n",
    "dtype: float64"
   ]
  },
  {
   "cell_type": "code",
   "execution_count": null,
   "metadata": {},
   "outputs": [],
   "source": [
    "# 5. Get the average fare per driver for each city type. \n",
    "average_fare_driver_series = total_fare_series/total_driver_series\n",
    "average_fare_driver_series\n",
    "type\n",
    "Rural       55.486282\n",
    "Suburban    39.502714\n",
    "Urban       16.571468\n",
    "dtype: float64"
   ]
  },
  {
   "cell_type": "code",
   "execution_count": null,
   "metadata": {},
   "outputs": [],
   "source": [
    "#  6. Create a PyBer summary DataFrame. \n",
    "pyber_summary_df = pd.DataFrame({\"Total Rides\" : total_rides_series,\n",
    "                                 \"Total Drivers\" : total_driver_series,\n",
    "                                 \"Total Fares\" : total_fare_series,\n",
    "                                 \"Average Fare per Ride\" : average_fare_ride_series,\n",
    "                                 \"Average Fare per Driver\" : average_fare_driver_series\n",
    "                                })\n",
    "pyber_summary_df\n",
    "Total Rides\tTotal Drivers\tTotal Fares\tAverage Fare per Ride\tAverage Fare per Driver\n",
    "type\t\t\t\t\t\n",
    "Rural\t125\t78\t4327.93\t34.623440\t55.486282\n",
    "Suburban\t625\t490\t19356.33\t30.970128\t39.502714\n",
    "Urban\t1625\t2405\t39854.38\t24.525772\t16.571468"
   ]
  },
  {
   "cell_type": "code",
   "execution_count": null,
   "metadata": {},
   "outputs": [],
   "source": [
    "#  7. Cleaning up the DataFrame. Delete the index name\n",
    "pyber_summary_df.index.name = None"
   ]
  },
  {
   "cell_type": "code",
   "execution_count": null,
   "metadata": {},
   "outputs": [],
   "source": [
    "#  8. Format the columns.\n",
    "pyber_summary_df[\"Total Rides\"] =  pyber_summary_df[\"Total Rides\"].map(\"{:,}\".format)\n",
    "pyber_summary_df[\"Total Drivers\"] =  pyber_summary_df[\"Total Drivers\"].map(\"{:,}\".format)\n",
    "pyber_summary_df[\"Total Fares\"] =  pyber_summary_df[\"Total Fares\"].map(\"${:,.2f}\".format)\n",
    "pyber_summary_df[\"Average Fare per Ride\"] =  pyber_summary_df[\"Average Fare per Ride\"].map(\"${:,.2f}\".format)\n",
    "pyber_summary_df[\"Average Fare per Driver\"] =  pyber_summary_df[\"Average Fare per Driver\"].map(\"${:,.2f}\".format)\n",
    "pyber_summary_df\n",
    "Total Rides\tTotal Drivers\tTotal Fares\tAverage Fare per Ride\tAverage Fare per Driver\n",
    "Rural\t125\t78\t$4,327.93\t$34.62\t$55.49\n",
    "Suburban\t625\t490\t$19,356.33\t$30.97\t$39.50\n",
    "Urban\t1,625\t2,405\t$39,854.38\t$24.53\t$16.57"
   ]
  },
  {
   "cell_type": "code",
   "execution_count": null,
   "metadata": {},
   "outputs": [],
   "source": [
    "# 1. Read the merged DataFrame\n",
    "pyber_data_df.head()\n",
    "city\tdate\tfare\tride_id\tdriver_count\ttype\n",
    "0\tLake Jonathanshire\t2019-01-14 10:14:22\t13.83\t5739410935873\t5\tUrban\n",
    "1\tSouth Michelleport\t2019-03-04 18:24:09\t30.24\t2343912425577\t72\tUrban\n",
    "2\tPort Samanthamouth\t2019-02-24 04:29:00\t33.44\t2005065760003\t57\tUrban\n",
    "3\tRodneyfort\t2019-02-10 23:22:03\t23.44\t5149245426178\t34\tUrban\n",
    "4\tSouth Jack\t2019-03-06 04:28:35\t34.58\t3908451377344\t46\tUrban"
   ]
  },
  {
   "cell_type": "code",
   "execution_count": null,
   "metadata": {},
   "outputs": [],
   "source": [
    "# 2. Using groupby() to create a new DataFrame showing the sum of the fares \n",
    "#  for each date where the indices are the city type and date.\n",
    "type_date_fare_data_df = pyber_data_df.groupby([\"type\",\"date\"]).sum() [\"fare\"]\n",
    "type_date_fare_data_df\n",
    "type   date               \n",
    "Rural  2019-01-01 09:45:36    43.69\n",
    "       2019-01-02 11:18:32    52.12\n",
    "       2019-01-03 19:51:01    19.90\n",
    "       2019-01-04 03:31:26    24.88\n",
    "       2019-01-06 07:38:40    47.33\n",
    "                              ...  \n",
    "Urban  2019-05-08 04:20:00    21.99\n",
    "       2019-05-08 04:39:49    18.45\n",
    "       2019-05-08 07:29:01    18.55\n",
    "       2019-05-08 11:38:35    19.77\n",
    "       2019-05-08 13:10:18    18.04\n",
    "Name: fare, Length: 2375, dtype: float64"
   ]
  },
  {
   "cell_type": "code",
   "execution_count": null,
   "metadata": {},
   "outputs": [],
   "source": [
    "# 3. Reset the index on the DataFrame you created in #1. This is needed to use the 'pivot()' function.\n",
    "# df = df.reset_index()\n",
    "type_date_fare_data_df = type_date_fare_data_df.reset_index()\n",
    "type_date_fare_data_df\n",
    "type\tdate\tfare\n",
    "0\tRural\t2019-01-01 09:45:36\t43.69\n",
    "1\tRural\t2019-01-02 11:18:32\t52.12\n",
    "2\tRural\t2019-01-03 19:51:01\t19.90\n",
    "3\tRural\t2019-01-04 03:31:26\t24.88\n",
    "4\tRural\t2019-01-06 07:38:40\t47.33\n",
    "...\t...\t...\t...\n",
    "2370\tUrban\t2019-05-08 04:20:00\t21.99\n",
    "2371\tUrban\t2019-05-08 04:39:49\t18.45\n",
    "2372\tUrban\t2019-05-08 07:29:01\t18.55\n",
    "2373\tUrban\t2019-05-08 11:38:35\t19.77\n",
    "2374\tUrban\t2019-05-08 13:10:18\t18.04\n"
   ]
  },
  {
   "cell_type": "code",
   "execution_count": null,
   "metadata": {},
   "outputs": [],
   "source": [
    "# 4. Create a pivot table with the 'date' as the index, the columns ='type', and values='fare' \n",
    "# to get the total fares for each type of city by the date. \n",
    "type_date_fare_pivot = type_date_fare_data_df.pivot(index = \"date\", columns = \"type\", values = \"fare\")\n",
    "type_date_fare_pivot\n",
    "type\tRural\tSuburban\tUrban\n",
    "date\t\t\t\n",
    "2019-01-01 00:08:16\tNaN\tNaN\t37.91\n",
    "2019-01-01 00:46:46\tNaN\t47.74\tNaN\n",
    "2019-01-01 02:07:24\tNaN\t24.07\tNaN\n",
    "2019-01-01 03:46:50\tNaN\tNaN\t7.57\n",
    "2019-01-01 05:23:21\tNaN\tNaN\t10.75\n",
    "...\t...\t...\t...\n",
    "2019-05-08 04:20:00\tNaN\tNaN\t21.99\n",
    "2019-05-08 04:39:49\tNaN\tNaN\t18.45\n",
    "2019-05-08 07:29:01\tNaN\tNaN\t18.55\n",
    "2019-05-08 11:38:35\tNaN\tNaN\t19.77\n",
    "2019-05-08 13:10:18\tNaN\tNaN\t18.04"
   ]
  },
  {
   "cell_type": "code",
   "execution_count": null,
   "metadata": {},
   "outputs": [],
   "source": [
    "# 5. Create a new DataFrame from the pivot table DataFrame using loc on the given dates, '2019-01-01':'2019-04-28'.\n",
    "\n",
    "Jan_Apr_data_df = type_date_fare_pivot.loc[\"2019-01-01\":\"2019-04-28\"]\n",
    "Jan_Apr_data_df\n",
    "type\tRural\tSuburban\tUrban\n",
    "date\t\t\t\n",
    "2019-01-01 00:08:16\tNaN\tNaN\t37.91\n",
    "2019-01-01 00:46:46\tNaN\t47.74\tNaN\n",
    "2019-01-01 02:07:24\tNaN\t24.07\tNaN\n",
    "2019-01-01 03:46:50\tNaN\tNaN\t7.57\n",
    "2019-01-01 05:23:21\tNaN\tNaN\t10.75\n",
    "...\t...\t...\t...\n",
    "2019-04-27 17:58:27\t14.01\tNaN\tNaN\n",
    "2019-04-27 19:45:48\tNaN\t28.84\tNaN\n",
    "2019-04-27 20:41:36\tNaN\tNaN\t8.28\n",
    "2019-04-27 23:26:03\tNaN\tNaN\t19.06\n",
    "2019-04-27 23:52:44\tNaN\t45.98\tNaN"
   ]
  },
  {
   "cell_type": "code",
   "execution_count": null,
   "metadata": {},
   "outputs": [],
   "source": [
    "# 6. Set the \"date\" index to datetime datatype. This is necessary to use the resample() method in Step 8.\n",
    "# df.index = pd.to_datetime(df.index)\n",
    "Jan_Apr_data_df.index = pd.to_datetime(Jan_Apr_data_df.index)"
   ]
  },
  {
   "cell_type": "code",
   "execution_count": null,
   "metadata": {},
   "outputs": [],
   "source": [
    "# 7. Check that the datatype for the index is datetime using df.info()\n",
    "Jan_Apr_data_df.info()\n",
    "<class 'pandas.core.frame.DataFrame'>\n",
    "DatetimeIndex: 2177 entries, 2019-01-01 00:08:16 to 2019-04-27 23:52:44\n",
    "Data columns (total 3 columns):\n",
    " #   Column    Non-Null Count  Dtype  \n",
    "---  ------    --------------  -----  \n",
    " 0   Rural     114 non-null    float64\n",
    " 1   Suburban  567 non-null    float64\n",
    " 2   Urban     1496 non-null   float64\n",
    "dtypes: float64(3)\n",
    "memory usage: 68.0 KB"
   ]
  },
  {
   "cell_type": "code",
   "execution_count": null,
   "metadata": {},
   "outputs": [],
   "source": [
    "# 8. Create a new DataFrame using the \"resample()\" function by week 'W' and get the sum of the fares for each week.\n",
    "weekly_fare = Jan_Apr_data_df.resample(\"W\").sum()\n",
    "weekly_fare.index.name = None\n",
    "weekly_fare\n",
    "type\tRural\tSuburban\tUrban\n",
    "2019-01-06\t187.92\t721.60\t1661.68\n",
    "2019-01-13\t67.65\t1105.13\t2050.43\n",
    "2019-01-20\t306.00\t1218.20\t1939.02\n",
    "2019-01-27\t179.69\t1203.28\t2129.51\n",
    "2019-02-03\t333.08\t1042.79\t2086.94\n",
    "2019-02-10\t115.80\t974.34\t2162.64\n",
    "2019-02-17\t95.82\t1045.50\t2235.07\n",
    "2019-02-24\t419.06\t1412.74\t2466.29\n",
    "2019-03-03\t175.14\t858.46\t2218.20\n",
    "2019-03-10\t303.94\t925.27\t2470.93\n",
    "2019-03-17\t163.39\t906.20\t2044.42\n",
    "2019-03-24\t189.76\t1122.20\t2368.37\n",
    "2019-03-31\t199.42\t1045.06\t1942.77\n",
    "2019-04-07\t501.24\t1010.73\t2356.70\n",
    "2019-04-14\t269.79\t784.82\t2390.72\n",
    "2019-04-21\t214.14\t1149.27\t2303.80\n",
    "2019-04-28\t191.85\t1169.04\t1909.51"
   ]
  },
  {
   "cell_type": "code",
   "execution_count": null,
   "metadata": {},
   "outputs": [],
   "source": [
    "# 8. Using the object-oriented interface method, plot the resample DataFrame using the df.plot() function. \n",
    "weekly_fares_chart = weekly_fare.plot(figsize = (25,7))\n",
    "weekly_fares_chart.set_ylabel(\"Fare ($USD)\")\n",
    "weekly_fares_chart.set_title(\"Total Fare by City Type\")\n",
    "# Import the style from Matplotlib.\n",
    "from matplotlib import style\n",
    "# Use the graph style fivethirtyeight.\n",
    "style.use(\"fivethirtyeight\")\n",
    "plt.savefig(\"C:/Users/raney/OneDrive/Desktop/Analysis_Projects/PyBer_Analysis/analysis/PyBer_fare_summary.png\")\n",
    "plt.show()\n",
    "plt.tight_layout()\n",
    "\n",
    "<Figure size 432x288 with 0 Axes>"
   ]
  }
 ],
 "metadata": {
  "kernelspec": {
   "display_name": "Python 3",
   "language": "python",
   "name": "python3"
  },
  "language_info": {
   "codemirror_mode": {
    "name": "ipython",
    "version": 3
   },
   "file_extension": ".py",
   "mimetype": "text/x-python",
   "name": "python",
   "nbconvert_exporter": "python",
   "pygments_lexer": "ipython3",
   "version": "3.8.5"
  }
 },
 "nbformat": 4,
 "nbformat_minor": 4
}
